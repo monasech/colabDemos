{
 "cells": [
  {
   "cell_type": "markdown",
   "id": "41ef359a",
   "metadata": {
    "papermill": {
     "duration": 0.005949,
     "end_time": "2022-08-09T22:49:30.079123",
     "exception": false,
     "start_time": "2022-08-09T22:49:30.073174",
     "status": "completed"
    },
    "tags": []
   },
   "source": [
    "# Simple Logistic Regression on Fire 🔥"
   ]
  },
  {
   "cell_type": "code",
   "execution_count": 1,
   "id": "641fab6f",
   "metadata": {
    "execution": {
     "iopub.execute_input": "2022-08-09T22:49:30.090685Z",
     "iopub.status.busy": "2022-08-09T22:49:30.090107Z",
     "iopub.status.idle": "2022-08-09T22:49:31.454689Z",
     "shell.execute_reply": "2022-08-09T22:49:31.453230Z"
    },
    "papermill": {
     "duration": 1.373851,
     "end_time": "2022-08-09T22:49:31.457760",
     "exception": false,
     "start_time": "2022-08-09T22:49:30.083909",
     "status": "completed"
    },
    "tags": []
   },
   "outputs": [],
   "source": [
    "import os\n",
    "import numpy as np\n",
    "import pandas as pd\n",
    "\n",
    "import seaborn as sn\n",
    "import matplotlib.pyplot as plt"
   ]
  },
  {
   "cell_type": "markdown",
   "id": "4db14aea",
   "metadata": {
    "papermill": {
     "duration": 0.00468,
     "end_time": "2022-08-09T22:49:31.467614",
     "exception": false,
     "start_time": "2022-08-09T22:49:31.462934",
     "status": "completed"
    },
    "tags": []
   },
   "source": [
    "## Import Data"
   ]
  },
  {
   "cell_type": "code",
   "execution_count": 2,
   "id": "2aab5b61",
   "metadata": {
    "execution": {
     "iopub.execute_input": "2022-08-09T22:49:31.479473Z",
     "iopub.status.busy": "2022-08-09T22:49:31.479013Z",
     "iopub.status.idle": "2022-08-09T22:49:31.525425Z",
     "shell.execute_reply": "2022-08-09T22:49:31.523798Z"
    },
    "papermill": {
     "duration": 0.055853,
     "end_time": "2022-08-09T22:49:31.528421",
     "exception": false,
     "start_time": "2022-08-09T22:49:31.472568",
     "status": "completed"
    },
    "tags": []
   },
   "outputs": [],
   "source": [
    "df_train = pd.read_csv('../input/bankruptcy-risk-prediction/train.csv')\n",
    "df_test = pd.read_csv('../input/bankruptcy-risk-prediction/test.csv')\n",
    "submission = pd.read_csv('../input/bankruptcy-risk-prediction/submission_example.csv')"
   ]
  },
  {
   "cell_type": "code",
   "execution_count": 3,
   "id": "8a60d0f1",
   "metadata": {
    "execution": {
     "iopub.execute_input": "2022-08-09T22:49:31.540039Z",
     "iopub.status.busy": "2022-08-09T22:49:31.539641Z",
     "iopub.status.idle": "2022-08-09T22:49:31.561493Z",
     "shell.execute_reply": "2022-08-09T22:49:31.560025Z"
    },
    "papermill": {
     "duration": 0.031469,
     "end_time": "2022-08-09T22:49:31.565004",
     "exception": false,
     "start_time": "2022-08-09T22:49:31.533535",
     "status": "completed"
    },
    "tags": []
   },
   "outputs": [],
   "source": [
    "df = pd.concat([df_train, df_test], axis=0, ignore_index=True)"
   ]
  },
  {
   "cell_type": "code",
   "execution_count": 4,
   "id": "8be64609",
   "metadata": {
    "execution": {
     "iopub.execute_input": "2022-08-09T22:49:31.579145Z",
     "iopub.status.busy": "2022-08-09T22:49:31.577277Z",
     "iopub.status.idle": "2022-08-09T22:49:31.586196Z",
     "shell.execute_reply": "2022-08-09T22:49:31.585206Z"
    },
    "papermill": {
     "duration": 0.018426,
     "end_time": "2022-08-09T22:49:31.588944",
     "exception": false,
     "start_time": "2022-08-09T22:49:31.570518",
     "status": "completed"
    },
    "tags": []
   },
   "outputs": [],
   "source": [
    "cat_features = df.columns[df.dtypes == 'object'].to_list()\n",
    "cat_features.append('bankruptcy')\n",
    "num_features = df.columns[df.dtypes != 'object'].to_list()\n",
    "num_features.remove('bankruptcy')\n",
    "num_features.remove('id')"
   ]
  },
  {
   "cell_type": "markdown",
   "id": "c82823bf",
   "metadata": {
    "papermill": {
     "duration": 0.004595,
     "end_time": "2022-08-09T22:49:31.598351",
     "exception": false,
     "start_time": "2022-08-09T22:49:31.593756",
     "status": "completed"
    },
    "tags": []
   },
   "source": [
    "## Data Preparation\n",
    "\n",
    "1. Drop the **Id** column\n",
    "2. **Encode categorical variable** with numerical values (aggregated percentage of bankruptcy)\n",
    "3. **Standardize** data"
   ]
  },
  {
   "cell_type": "code",
   "execution_count": 5,
   "id": "c2de7f01",
   "metadata": {
    "execution": {
     "iopub.execute_input": "2022-08-09T22:49:31.610569Z",
     "iopub.status.busy": "2022-08-09T22:49:31.609453Z",
     "iopub.status.idle": "2022-08-09T22:49:31.618071Z",
     "shell.execute_reply": "2022-08-09T22:49:31.617048Z"
    },
    "papermill": {
     "duration": 0.017783,
     "end_time": "2022-08-09T22:49:31.620711",
     "exception": false,
     "start_time": "2022-08-09T22:49:31.602928",
     "status": "completed"
    },
    "tags": []
   },
   "outputs": [],
   "source": [
    "#drop the id column\n",
    "\n",
    "df1 = df.drop(['id'], axis=1).copy()"
   ]
  },
  {
   "cell_type": "code",
   "execution_count": 6,
   "id": "c1de496d",
   "metadata": {
    "execution": {
     "iopub.execute_input": "2022-08-09T22:49:31.632347Z",
     "iopub.status.busy": "2022-08-09T22:49:31.631863Z",
     "iopub.status.idle": "2022-08-09T22:49:31.666222Z",
     "shell.execute_reply": "2022-08-09T22:49:31.664086Z"
    },
    "papermill": {
     "duration": 0.044387,
     "end_time": "2022-08-09T22:49:31.669657",
     "exception": false,
     "start_time": "2022-08-09T22:49:31.625270",
     "status": "completed"
    },
    "tags": []
   },
   "outputs": [],
   "source": [
    "#encode all the categorical variables with aggregated percentage of bankruptcy\n",
    "\n",
    "df2 = df1.copy()\n",
    "\n",
    "for feature in cat_features[:-1]:\n",
    "    df2[feature] = df2.groupby([feature])['bankruptcy'].transform(np.mean)"
   ]
  },
  {
   "cell_type": "code",
   "execution_count": 7,
   "id": "bc2ef0b7",
   "metadata": {
    "execution": {
     "iopub.execute_input": "2022-08-09T22:49:31.681601Z",
     "iopub.status.busy": "2022-08-09T22:49:31.681001Z",
     "iopub.status.idle": "2022-08-09T22:49:31.896363Z",
     "shell.execute_reply": "2022-08-09T22:49:31.894515Z"
    },
    "papermill": {
     "duration": 0.225761,
     "end_time": "2022-08-09T22:49:31.900315",
     "exception": false,
     "start_time": "2022-08-09T22:49:31.674554",
     "status": "completed"
    },
    "tags": []
   },
   "outputs": [],
   "source": [
    "#standardize all the numerical features\n",
    "\n",
    "from sklearn.preprocessing import StandardScaler\n",
    "\n",
    "df3 = df2.copy()\n",
    "scaler = StandardScaler()\n",
    "df3[df3.columns[:-1]] = scaler.fit_transform(df3[df3.columns[:-1]])"
   ]
  },
  {
   "cell_type": "code",
   "execution_count": 8,
   "id": "ddd2afdf",
   "metadata": {
    "execution": {
     "iopub.execute_input": "2022-08-09T22:49:31.913009Z",
     "iopub.status.busy": "2022-08-09T22:49:31.912167Z",
     "iopub.status.idle": "2022-08-09T22:49:31.922940Z",
     "shell.execute_reply": "2022-08-09T22:49:31.921660Z"
    },
    "papermill": {
     "duration": 0.020516,
     "end_time": "2022-08-09T22:49:31.926072",
     "exception": false,
     "start_time": "2022-08-09T22:49:31.905556",
     "status": "completed"
    },
    "tags": []
   },
   "outputs": [],
   "source": [
    "#split the data back to train and test sets\n",
    "\n",
    "X_train = df3.iloc[:df_train.shape[0],:-1].copy()\n",
    "y_train = df3.iloc[:df_train.shape[0],-1].copy()\n",
    "\n",
    "X_test = df3.iloc[df_train.shape[0]:,:-1].copy()"
   ]
  },
  {
   "cell_type": "markdown",
   "id": "540da64f",
   "metadata": {
    "papermill": {
     "duration": 0.004419,
     "end_time": "2022-08-09T22:49:31.935744",
     "exception": false,
     "start_time": "2022-08-09T22:49:31.931325",
     "status": "completed"
    },
    "tags": []
   },
   "source": [
    "## Evaluation Metric"
   ]
  },
  {
   "cell_type": "code",
   "execution_count": 9,
   "id": "73b779ff",
   "metadata": {
    "execution": {
     "iopub.execute_input": "2022-08-09T22:49:31.948661Z",
     "iopub.status.busy": "2022-08-09T22:49:31.947355Z",
     "iopub.status.idle": "2022-08-09T22:49:32.034960Z",
     "shell.execute_reply": "2022-08-09T22:49:32.033582Z"
    },
    "papermill": {
     "duration": 0.097655,
     "end_time": "2022-08-09T22:49:32.038165",
     "exception": false,
     "start_time": "2022-08-09T22:49:31.940510",
     "status": "completed"
    },
    "tags": []
   },
   "outputs": [],
   "source": [
    "from sklearn.metrics import roc_auc_score\n",
    "from sklearn.model_selection import KFold, cross_val_score\n",
    "\n",
    "def kf_cross_val(model, X, y): \n",
    "    scores = []\n",
    "    kf = KFold(n_splits=5, shuffle=True, random_state=42)\n",
    "    for fold, (train_index, test_index) in enumerate(kf.split(X, y)):\n",
    "        x_train = X.iloc[train_index]\n",
    "        y_train = y.loc[train_index]\n",
    "        x_test = X.loc[test_index]\n",
    "        y_test = y.loc[test_index]\n",
    "        model.fit(x_train,y_train)\n",
    "        y_pred = model.predict_proba(x_test)[:,1]     \n",
    "        scores.append(roc_auc_score(y_test,y_pred))       \n",
    "    return scores"
   ]
  },
  {
   "cell_type": "markdown",
   "id": "49d4b682",
   "metadata": {
    "papermill": {
     "duration": 0.00456,
     "end_time": "2022-08-09T22:49:32.047548",
     "exception": false,
     "start_time": "2022-08-09T22:49:32.042988",
     "status": "completed"
    },
    "tags": []
   },
   "source": [
    "## Logistic Regression"
   ]
  },
  {
   "cell_type": "code",
   "execution_count": 10,
   "id": "6a59522a",
   "metadata": {
    "execution": {
     "iopub.execute_input": "2022-08-09T22:49:32.059970Z",
     "iopub.status.busy": "2022-08-09T22:49:32.059218Z",
     "iopub.status.idle": "2022-08-09T22:49:38.240565Z",
     "shell.execute_reply": "2022-08-09T22:49:38.239187Z"
    },
    "papermill": {
     "duration": 6.195178,
     "end_time": "2022-08-09T22:49:38.248061",
     "exception": false,
     "start_time": "2022-08-09T22:49:32.052883",
     "status": "completed"
    },
    "tags": []
   },
   "outputs": [
    {
     "data": {
      "text/plain": [
       "{'C': 0.0022229964825261957}"
      ]
     },
     "execution_count": 10,
     "metadata": {},
     "output_type": "execute_result"
    }
   ],
   "source": [
    "from sklearn.model_selection import GridSearchCV\n",
    "from sklearn.linear_model import LogisticRegression\n",
    "\n",
    "lr = LogisticRegression(max_iter = 2000,\n",
    "                        random_state = 0)\n",
    "\n",
    "lr_param = {'C':np.logspace(-10,10)}\n",
    "\n",
    "lr_cv = GridSearchCV(estimator=lr, param_grid=lr_param , scoring='roc_auc', cv=5)\n",
    "lr_cv.fit(X_train, y_train)\n",
    "lr_cv.best_params_"
   ]
  },
  {
   "cell_type": "code",
   "execution_count": 11,
   "id": "005df04f",
   "metadata": {
    "execution": {
     "iopub.execute_input": "2022-08-09T22:49:38.278095Z",
     "iopub.status.busy": "2022-08-09T22:49:38.277401Z",
     "iopub.status.idle": "2022-08-09T22:49:38.439078Z",
     "shell.execute_reply": "2022-08-09T22:49:38.437439Z"
    },
    "papermill": {
     "duration": 0.18318,
     "end_time": "2022-08-09T22:49:38.443538",
     "exception": false,
     "start_time": "2022-08-09T22:49:38.260358",
     "status": "completed"
    },
    "tags": []
   },
   "outputs": [
    {
     "data": {
      "text/plain": [
       "0.81034"
      ]
     },
     "execution_count": 11,
     "metadata": {},
     "output_type": "execute_result"
    }
   ],
   "source": [
    "from sklearn.model_selection import cross_validate\n",
    "\n",
    "lr_best = LogisticRegression(C = lr_cv.best_params_['C'], \n",
    "                             max_iter = 2000, \n",
    "                             random_state = 0)\n",
    "\n",
    "lr_best.fit(X_train, y_train)\n",
    "\n",
    "scores = kf_cross_val(lr_best, X_train, y_train)\n",
    "round(np.mean(scores), 5)"
   ]
  },
  {
   "cell_type": "code",
   "execution_count": 12,
   "id": "f6344e34",
   "metadata": {
    "execution": {
     "iopub.execute_input": "2022-08-09T22:49:38.469856Z",
     "iopub.status.busy": "2022-08-09T22:49:38.469101Z",
     "iopub.status.idle": "2022-08-09T22:49:38.518845Z",
     "shell.execute_reply": "2022-08-09T22:49:38.517174Z"
    },
    "papermill": {
     "duration": 0.068014,
     "end_time": "2022-08-09T22:49:38.523149",
     "exception": false,
     "start_time": "2022-08-09T22:49:38.455135",
     "status": "completed"
    },
    "tags": []
   },
   "outputs": [
    {
     "data": {
      "text/html": [
       "<div>\n",
       "<style scoped>\n",
       "    .dataframe tbody tr th:only-of-type {\n",
       "        vertical-align: middle;\n",
       "    }\n",
       "\n",
       "    .dataframe tbody tr th {\n",
       "        vertical-align: top;\n",
       "    }\n",
       "\n",
       "    .dataframe thead th {\n",
       "        text-align: right;\n",
       "    }\n",
       "</style>\n",
       "<table border=\"1\" class=\"dataframe\">\n",
       "  <thead>\n",
       "    <tr style=\"text-align: right;\">\n",
       "      <th></th>\n",
       "      <th>id</th>\n",
       "      <th>proba</th>\n",
       "    </tr>\n",
       "  </thead>\n",
       "  <tbody>\n",
       "    <tr>\n",
       "      <th>0</th>\n",
       "      <td>800</td>\n",
       "      <td>0.291856</td>\n",
       "    </tr>\n",
       "    <tr>\n",
       "      <th>1</th>\n",
       "      <td>801</td>\n",
       "      <td>0.254246</td>\n",
       "    </tr>\n",
       "    <tr>\n",
       "      <th>2</th>\n",
       "      <td>802</td>\n",
       "      <td>0.313673</td>\n",
       "    </tr>\n",
       "    <tr>\n",
       "      <th>3</th>\n",
       "      <td>803</td>\n",
       "      <td>0.164785</td>\n",
       "    </tr>\n",
       "    <tr>\n",
       "      <th>4</th>\n",
       "      <td>804</td>\n",
       "      <td>0.359552</td>\n",
       "    </tr>\n",
       "  </tbody>\n",
       "</table>\n",
       "</div>"
      ],
      "text/plain": [
       "    id     proba\n",
       "0  800  0.291856\n",
       "1  801  0.254246\n",
       "2  802  0.313673\n",
       "3  803  0.164785\n",
       "4  804  0.359552"
      ]
     },
     "execution_count": 12,
     "metadata": {},
     "output_type": "execute_result"
    }
   ],
   "source": [
    "lr_best.fit(X_train, y_train)\n",
    "y_pred = lr_best.predict_proba(X_test)[:,1]\n",
    "\n",
    "submission['proba'] = y_pred\n",
    "submission.to_csv('submission.csv', index=False)\n",
    "submission.head()"
   ]
  }
 ],
 "metadata": {
  "kernelspec": {
   "display_name": "Python 3",
   "language": "python",
   "name": "python3"
  },
  "language_info": {
   "codemirror_mode": {
    "name": "ipython",
    "version": 3
   },
   "file_extension": ".py",
   "mimetype": "text/x-python",
   "name": "python",
   "nbconvert_exporter": "python",
   "pygments_lexer": "ipython3",
   "version": "3.7.12"
  },
  "papermill": {
   "default_parameters": {},
   "duration": 21.132755,
   "end_time": "2022-08-09T22:49:39.368202",
   "environment_variables": {},
   "exception": null,
   "input_path": "__notebook__.ipynb",
   "output_path": "__notebook__.ipynb",
   "parameters": {},
   "start_time": "2022-08-09T22:49:18.235447",
   "version": "2.3.4"
  }
 },
 "nbformat": 4,
 "nbformat_minor": 5
}
